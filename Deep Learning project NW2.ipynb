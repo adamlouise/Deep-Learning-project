{
 "cells": [
  {
   "cell_type": "markdown",
   "metadata": {},
   "source": [
    "# Network 2\n",
    "\n",
    "The size of the data loaded in this notebook is 100.000 \n",
    "(since 1/4 of the data is kept for validation and 1/4 for predictions, the network is trained on 50.000 samples)\n",
    "\n",
    "Using the python files on my computer, I trained the network on more data (500.000) \n",
    "\n",
    "This explains the divergence in results.\n",
    "\n",
    "I chose to present this notebook on a shrinked data set because generating the data takes a lot of time and saving them in pickle files also. Moreover, the results are also very interesting on this amount of data :-)\n",
    "(I also tried to load a trained network, but for no reason this does not seem to work here :-/ )"
   ]
  },
  {
   "cell_type": "code",
   "execution_count": 3,
   "metadata": {},
   "outputs": [],
   "source": [
    "#import matplotlib\n",
    "import numpy as np\n",
    "#import pandas as pd\n",
    "import matplotlib.pyplot as plt\n",
    "#import glob\n",
    "import os\n",
    "import sys\n",
    "import pickle\n",
    "import time\n",
    "\n",
    "#from IPython.display import clear_output\n",
    "#from skimage.io import imread\n",
    "#from skimage.transform import resize\n",
    "\n",
    "import torch\n",
    "import torch.nn as nn\n",
    "import torch.nn.functional as F\n",
    "import torch.optim as optim\n",
    "import torch.nn.init as init\n",
    "\n",
    "from torch.nn.parameter import Parameter\n",
    "\n",
    "from sklearn.preprocessing import StandardScaler\n",
    "\n",
    "path_to_utils = os.path.join('.', 'python_functions')\n",
    "path_to_utils = os.path.abspath(path_to_utils)\n",
    "if path_to_utils not in sys.path:\n",
    "    sys.path.insert(0, path_to_utils)\n",
    "\n",
    "import mf_utils as util\n",
    "from hyperopt import fmin, tpe, hp, STATUS_OK, Trials\n",
    "from scipy import stats\n",
    "\n",
    "from sklearn.metrics import mean_absolute_error"
   ]
  },
  {
   "cell_type": "markdown",
   "metadata": {},
   "source": [
    "### Basic parameters"
   ]
  },
  {
   "cell_type": "code",
   "execution_count": 12,
   "metadata": {},
   "outputs": [],
   "source": [
    "#%% Basic parameters\n",
    "\n",
    "num_atoms = 782\n",
    "num_fasc = 2\n",
    "num_params = 6 #nombre de paramètres à estimer: ['nu1', 'r1 ', 'f1 ', 'nu2', 'r2 ', 'f2 ']\n",
    "\n",
    "\n",
    "params = {\n",
    "    #Training parameters\n",
    "    \"num_samples\": 100000,\n",
    "     \"batch_size\": 500,  \n",
    "     \"num_epochs\": 50,\n",
    "     \n",
    "     #NW1 parameters\n",
    "     #\"num_w_out\": hp.choice(\"num_w_out\", [3, 4, 5, 6, 7, 8, 9, 10, 12, 15, 20, 25, 30] ),\n",
    "     \"num_w_out\": 12,\n",
    "     \"num_w_l1\": 500,\n",
    "     \"num_w_l2\": 50,\n",
    "     \n",
    "     #NW2\n",
    "     \"num_f_l1\": 200,\n",
    "     \"num_f_l2\": 100,\n",
    "     \n",
    "     #other\n",
    "     \"learning_rate\": 0.001,\n",
    "     #\"learning_rate\": hp.uniform(\"learningrate\", 0.0005, 0.01),\n",
    "     \"dropout\": 0.3\n",
    "     #\"dropout\": hp.uniform(\"dropout\", 0, 0.4)\n",
    "}\n",
    "\n",
    "num_samples = params[\"num_samples\"]\n",
    "num_div = int(num_samples/4)"
   ]
  },
  {
   "cell_type": "markdown",
   "metadata": {},
   "source": [
    "### Get the data"
   ]
  },
  {
   "cell_type": "code",
   "execution_count": 13,
   "metadata": {},
   "outputs": [
    {
     "name": "stdout",
     "output_type": "stream",
     "text": [
      "torch.Size([100000, 1564])\n",
      "torch.Size([100000, 6])\n"
     ]
    }
   ],
   "source": [
    "# Data\n",
    "\n",
    "filename = 'dataNW2_w_store'\n",
    "w_store = pickle.load(open(filename, 'rb'))\n",
    "\n",
    "filename = 'dataNW2_targets'\n",
    "target_params = pickle.load(open(filename, 'rb'))\n",
    "\n",
    "print(w_store.shape)\n",
    "print(target_params.shape)"
   ]
  },
  {
   "cell_type": "markdown",
   "metadata": {},
   "source": [
    "To have an idea of the sparsity of the w vectors, let's print one :-)"
   ]
  },
  {
   "cell_type": "code",
   "execution_count": 28,
   "metadata": {},
   "outputs": [
    {
     "data": {
      "image/png": "[encoded data removed]",
      "text/plain": [
       "<Figure size 432x288 with 1 Axes>"
      ]
     },
     "metadata": {
      "needs_background": "light"
     },
     "output_type": "display_data"
    }
   ],
   "source": [
    "w_print = w_store[0,:]\n",
    "n_w = len(w_print)\n",
    "\n",
    "plt.figure()\n",
    "plt.plot(range(n_w), w_print)\n",
    "plt.title('Sparse w-vector')\n",
    "plt.xlabel('size of w'), plt.ylabel('value')\n",
    "plt.show()"
   ]
  },
  {
   "cell_type": "markdown",
   "metadata": {},
   "source": [
    "Some more manipulation of the data"
   ]
  },
  {
   "cell_type": "code",
   "execution_count": 14,
   "metadata": {},
   "outputs": [
    {
     "name": "stdout",
     "output_type": "stream",
     "text": [
      "(100000, 782, 2)\n",
      "x_train size (50000, 782, 2)\n",
      "x_test size (25000, 782, 2)\n",
      "x_valid size (25000, 782, 2)\n"
     ]
    }
   ],
   "source": [
    "w_store1 = w_store[0:num_div*2, :]\n",
    "w_store2 = w_store[num_div*2:num_div*4, :]\n",
    "target_params1 = target_params[0:num_div*2, :]\n",
    "target_params2 = target_params[num_div*2:num_div*4, :]\n",
    "\n",
    "w_reshape = np.zeros((num_samples, num_atoms, num_fasc))\n",
    "\n",
    "w_reshape[0:num_div*2, :,0] = w_store1[:, 0:num_atoms]\n",
    "w_reshape[0:num_div*2,:,1] = w_store1[:, num_atoms: 2*num_atoms]\n",
    "w_reshape[num_div*2:num_samples,:,0] = w_store2[:, 0:num_atoms]\n",
    "w_reshape[num_div*2:num_samples,:,1] = w_store2[:, num_atoms: 2*num_atoms]\n",
    "\n",
    "print(w_reshape.shape)\n",
    "\n",
    "# divide data in train, test and validation\n",
    "x_train = w_reshape[0:2*num_div, :, :]\n",
    "x_test = w_reshape[2*num_div : 3*num_div , :, :]\n",
    "x_valid = w_reshape[3*num_div : 4*num_div, :, :]\n",
    "\n",
    "print('x_train size', x_train.shape)\n",
    "print('x_test size', x_test.shape)\n",
    "print('x_valid size', x_valid.shape)\n",
    "\n",
    "x_train = torch.from_numpy(x_train)\n",
    "x_test = torch.from_numpy(x_test)\n",
    "x_valid = torch.from_numpy(x_valid)\n",
    "\n",
    "# quelques modifs pour le modele neuronal\n",
    "x_train = x_train.float()\n",
    "x_test = x_test.float()\n",
    "x_valid = x_valid.float()"
   ]
  },
  {
   "cell_type": "markdown",
   "metadata": {},
   "source": [
    "### Load the targets"
   ]
  },
  {
   "cell_type": "code",
   "execution_count": 15,
   "metadata": {},
   "outputs": [
    {
     "name": "stdout",
     "output_type": "stream",
     "text": [
      "--- Taking microstructural properties of fascicles ---\n",
      "tensor([ 1.5187, -0.1482, -1.2063, -1.5187,  0.5662,  0.3006])\n",
      "target_train size torch.Size([50000, 6])\n",
      "target_test size torch.Size([25000, 6])\n",
      "target_valid size torch.Size([25000, 6])\n"
     ]
    }
   ],
   "source": [
    "print(\"--- Taking microstructural properties of fascicles ---\")\n",
    "\n",
    "#Scaling: scaler: (num_samples, num_features)\n",
    "\n",
    "scaler_train = StandardScaler()\n",
    "target_params1 = scaler_train.fit_transform(target_params1)\n",
    "target_params1 = torch.from_numpy(target_params1)\n",
    "\n",
    "scaler_valid = StandardScaler()\n",
    "target_params2 = scaler_valid.fit_transform(target_params2)\n",
    "target_params2 = torch.from_numpy(target_params2)\n",
    "\n",
    "## Dividing in train test and valid\n",
    "\n",
    "target_train = target_params1[:, :]\n",
    "target_test = target_params2[0:num_div, :]\n",
    "target_valid = target_params2[num_div:2*num_div, :]\n",
    "\n",
    "target_train = target_train.float()\n",
    "target_test = target_test.float()\n",
    "target_valid = target_valid.float()\n",
    "\n",
    "print(target_train[0, :])\n",
    "\n",
    "print('target_train size', target_train.shape)\n",
    "print('target_test size', target_test.shape)\n",
    "print('target_valid size', target_valid.shape)"
   ]
  },
  {
   "cell_type": "markdown",
   "metadata": {},
   "source": [
    "### Defining the networks"
   ]
  },
  {
   "cell_type": "code",
   "execution_count": 16,
   "metadata": {},
   "outputs": [],
   "source": [
    "# Network 1\n",
    "\n",
    "class Net_w(nn.Module):\n",
    "\n",
    "    def __init__(self, num_in, num_h1, num_h2, num_out, drop_prob):\n",
    "        super(Net_w, self).__init__()  \n",
    "        # input layer\n",
    "        self.W_1 = Parameter(init.kaiming_uniform_(torch.Tensor(num_h1, num_in)))\n",
    "        self.b_1 = Parameter(init.constant_(torch.Tensor(num_h1), 0))\n",
    "\n",
    "        # hidden layer\n",
    "        self.W_2 = Parameter(init.kaiming_uniform_(torch.Tensor(num_h2, num_h1)))\n",
    "        self.b_2 = Parameter(init.constant_(torch.Tensor(num_h2), 0))\n",
    "        \n",
    "        self.W_3 = Parameter(init.kaiming_uniform_(torch.Tensor(num_out, num_h2)))\n",
    "        self.b_3 = Parameter(init.constant_(torch.Tensor(num_out), 0))\n",
    "        \n",
    "        self.activation = torch.nn.ReLU()\n",
    "        \n",
    "        self.dropout = nn.Dropout(drop_prob)\n",
    "\n",
    "    def forward(self, x):\n",
    "\n",
    "        x = F.linear(x, self.W_1, self.b_1)\n",
    "        x = self.activation(x)\n",
    "        x = self.dropout(x)\n",
    "\n",
    "        x = F.linear(x, self.W_2, self.b_2)\n",
    "        x = self.activation(x)\n",
    "        x = self.dropout(x)\n",
    "        \n",
    "        x = F.linear(x, self.W_3, self.b_3)\n",
    "\n",
    "        return x\n",
    "\n",
    "\n",
    "# Network 2\n",
    "class Net_f(nn.Module):\n",
    "\n",
    "    def __init__(self, num_in, num_h1, num_h2, num_out, drop_prob):\n",
    "        super(Net_f, self).__init__()  \n",
    "        # input layer\n",
    "        self.W_1 = Parameter(init.kaiming_uniform_(torch.Tensor(num_h1, num_in)))\n",
    "        self.b_1 = Parameter(init.constant_(torch.Tensor(num_h1), 0))\n",
    "\n",
    "        # hidden layer\n",
    "        self.W_2 = Parameter(init.kaiming_uniform_(torch.Tensor(num_h2, num_h1)))\n",
    "        self.b_2 = Parameter(init.constant_(torch.Tensor(num_h2), 0))\n",
    "        \n",
    "        self.W_3 = Parameter(init.kaiming_uniform_(torch.Tensor(num_out, num_h2)))\n",
    "        self.b_3 = Parameter(init.constant_(torch.Tensor(num_out), 0))\n",
    "        \n",
    "        self.activation = torch.nn.ReLU()\n",
    "        \n",
    "        self.dropout = nn.Dropout(drop_prob)\n",
    "\n",
    "    def forward(self, x):\n",
    "\n",
    "        x = F.linear(x, self.W_1, self.b_1)\n",
    "        x = self.activation(x)\n",
    "        x = self.dropout(x)\n",
    "        x = F.linear(x, self.W_2, self.b_2)\n",
    "        x = self.activation(x)\n",
    "        x = self.dropout(x)\n",
    "        x = F.linear(x, self.W_3, self.b_3)\n",
    "\n",
    "        return x\n",
    "\n",
    "# Network 3\n",
    "class Net_tot(nn.Module):\n",
    "\n",
    "    def __init__(self, numw_in, numw_l1, numw_l2, numw_out, numf_in, numf_l1, numf_l2, numf_out, drop):\n",
    "        super(Net_tot, self).__init__()  \n",
    "        self.netw = Net_w(numw_in, numw_l1, numw_l2, numw_out, drop_prob=drop)\n",
    "        self.netf = Net_f(numf_in, numf_l1, numf_l2, numf_out, drop_prob=drop)\n",
    "\n",
    "    def forward(self, w1, w2):\n",
    "        x1 = self.netw(w1)\n",
    "        x2 = self.netw(w2)\n",
    "        \n",
    "        x = torch.cat((x1, x2), axis=1)\n",
    "\n",
    "        x = self.netf(x)\n",
    "\n",
    "        return x"
   ]
  },
  {
   "cell_type": "markdown",
   "metadata": {},
   "source": [
    "### Making the training loop"
   ]
  },
  {
   "cell_type": "code",
   "execution_count": 17,
   "metadata": {},
   "outputs": [],
   "source": [
    "def train_network(params: dict):\n",
    "    # Building training loop\n",
    "    num_w_out = params[\"num_w_out\"] #??\n",
    "    num_w_l1 = params[\"num_w_l1\"]\n",
    "    num_w_l2 = params[\"num_w_l2\"]\n",
    "    num_w_in = num_atoms\n",
    "    num_f_out = num_params #nombre de paramètres à estimer\n",
    "    num_f_l1 = params[\"num_f_l1\"]\n",
    "    num_f_l2 = params[\"num_f_l2\"]\n",
    "    num_f_in = num_w_out*num_fasc #ici 10*2\n",
    "    drop = params[\"dropout\"]\n",
    "    \n",
    "    net_tot = Net_tot(num_w_in, num_w_l1, num_w_l2, num_w_out, num_f_in, num_f_l1, num_f_l2, num_f_out, drop)\n",
    "    \n",
    "    print(net_tot)\n",
    "    \n",
    "    # Optimizer and Criterion\n",
    "    \n",
    "    optimizer = optim.Adam(net_tot.parameters(), lr=params[\"learning_rate\"], weight_decay=0.0000001)\n",
    "    lossf = nn.MSELoss()\n",
    "    \n",
    "    \n",
    "    print('----------------------- Training --------------------------')\n",
    "    \n",
    "    start = time.time()\n",
    "    \n",
    "    # setting hyperparameters and gettings epoch sizes\n",
    "    batch_size = params[\"batch_size\"] #100 \n",
    "    num_epochs = params[\"num_epochs\"] #200\n",
    "    #print(x_train.shape)\n",
    "    \n",
    "    #shapes = x_train.shape\n",
    "    num_samples_train = int(num_samples/2)\n",
    "    num_batches_train = num_samples_train // batch_size #??\n",
    "    num_samples_valid = int(num_samples/4)\n",
    "    num_batches_valid = num_samples_valid // batch_size\n",
    "    \n",
    "    # setting up lists for handling loss/accuracy\n",
    "    train_acc = np.zeros((num_epochs, num_params))\n",
    "    valid_acc = np.zeros((num_epochs, num_params))\n",
    "    \n",
    "    meanTrainError, meanValError  = [], []\n",
    "\n",
    "    cur_loss = 0\n",
    "    losses = []\n",
    "    \n",
    "    # lambda function\n",
    "    get_slice = lambda i, size: range(i * size, (i + 1) * size)\n",
    "    \n",
    "    for epoch in range(num_epochs):\n",
    "        # Forward -> Backprob -> Update params\n",
    "        ## Train\n",
    "        cur_loss = 0\n",
    "        net_tot.train()\n",
    "        \n",
    "        for i in range(num_batches_train):\n",
    "            \n",
    "            optimizer.zero_grad()\n",
    "            slce = get_slice(i, batch_size)\n",
    "    \n",
    "            output = net_tot(x_train[slce, :, 0], x_train[slce, :, 1])\n",
    "            \n",
    "            # compute gradients given loss\n",
    "            target_batch = target_train[slce]\n",
    "            batch_loss = lossf(output, target_batch)\n",
    "            batch_loss.backward()\n",
    "            optimizer.step()\n",
    "            \n",
    "            cur_loss += batch_loss   \n",
    "        losses.append(cur_loss / batch_size)\n",
    "        #print(cur_loss / batch_size)\n",
    "    \n",
    "        net_tot.eval()\n",
    "        \n",
    "        ### Evaluate training\n",
    "        train_preds = [[], [], [], [], [], []]\n",
    "        train_targs = [[], [], [], [], [], []]\n",
    "        for i in range(num_batches_train):\n",
    "            slce = get_slice(i, batch_size)\n",
    "            preds = net_tot(x_train[slce, :, 0], x_train[slce, :, 1])\n",
    "            \n",
    "            for j in range(num_params):\n",
    "                train_targs[j] += list(target_train[slce, j].numpy())\n",
    "                train_preds[j] += list(preds.data[:,j].numpy())\n",
    "            \n",
    "        ### Evaluate validation\n",
    "        val_preds = [[], [], [], [], [], []]\n",
    "        val_targs = [[], [], [], [], [], []]\n",
    "        for i in range(num_batches_valid):\n",
    "            slce = get_slice(i, batch_size)\n",
    "            preds = net_tot(x_valid[slce, :, 0], x_valid[slce, :, 1])\n",
    "            \n",
    "            for j in range(num_params):\n",
    "                val_targs[j] += list(target_valid[slce, j].numpy())\n",
    "                val_preds[j] += list(preds.data[:,j].numpy())\n",
    "                \n",
    "        # Save evaluation and training\n",
    "        train_acc_cur = np.zeros(num_params)\n",
    "        valid_acc_cur = np.zeros(num_params)\n",
    "        for j in range(num_params):\n",
    "            train_acc_cur[j] = mean_absolute_error(train_targs[j], train_preds[j])\n",
    "            valid_acc_cur[j] = mean_absolute_error(val_targs[j], val_preds[j])\n",
    "            train_acc[epoch, j] = train_acc_cur[j]\n",
    "            valid_acc[epoch, j] = valid_acc_cur[j]\n",
    "        \n",
    "        #print(train_acc)\n",
    "        #print(train_acc)\n",
    "        meanTrainError.append(np.mean(train_acc[epoch,:]))\n",
    "        meanValError.append(np.mean(valid_acc[epoch, :]))\n",
    "        \n",
    "        if epoch % 10 == 0:\n",
    "            print(\"Epoch %2i : Train Loss %f , Train acc %f, Valid acc %f, \" %(\n",
    "                    epoch+1, losses[-1], meanTrainError[-1], meanValError[-1]))\n",
    "        \n",
    "    to_min = sum(valid_acc_cur)\n",
    "    \n",
    "    end = time.time()\n",
    "    t = end-start\n",
    "      \n",
    "    return {\"loss\": to_min, \n",
    "            \"model\": net_tot, \n",
    "            \"params\": params, \n",
    "            \"status\": STATUS_OK,\n",
    "            \"train_acc\": train_acc,\n",
    "            \"valid_acc\": valid_acc,\n",
    "            \"meanTrainError\": meanTrainError,\n",
    "            \"meanValError\": meanValError,\n",
    "            \"time\": t\n",
    "            }"
   ]
  },
  {
   "cell_type": "markdown",
   "metadata": {},
   "source": [
    "### Training the Network"
   ]
  },
  {
   "cell_type": "code",
   "execution_count": 19,
   "metadata": {},
   "outputs": [
    {
     "name": "stdout",
     "output_type": "stream",
     "text": [
      "Net_tot(\n",
      "  (netw): Net_w(\n",
      "    (activation): ReLU()\n",
      "    (dropout): Dropout(p=0.3, inplace=False)\n",
      "  )\n",
      "  (netf): Net_f(\n",
      "    (activation): ReLU()\n",
      "    (dropout): Dropout(p=0.3, inplace=False)\n",
      "  )\n",
      ")\n",
      "----------------------- Training --------------------------\n",
      "100 50\n",
      "Epoch  1 : Train Loss 0.295721 , Train acc 0.864983, Valid acc 0.864089, \n",
      "Epoch 11 : Train Loss 0.106735 , Train acc 0.514848, Valid acc 0.518500, \n",
      "Epoch 21 : Train Loss 0.080795 , Train acc 0.426925, Valid acc 0.436817, \n",
      "Epoch 31 : Train Loss 0.066913 , Train acc 0.377001, Valid acc 0.395943, \n",
      "Epoch 41 : Train Loss 0.061023 , Train acc 0.353597, Valid acc 0.382434, \n",
      "training time: 395.09237790107727 [sec]\n"
     ]
    }
   ],
   "source": [
    "trial = train_network(params)  \n",
    "\n",
    "print(\"training time:\", trial['time'], \"[sec]\")"
   ]
  },
  {
   "cell_type": "markdown",
   "metadata": {},
   "source": [
    "### Graphs for training: learning curve\n",
    "\n",
    "Here I first print the errors for the 6 properties individually \n",
    "\n",
    "then I print the mean errors, which represents my learning curve"
   ]
  },
  {
   "cell_type": "code",
   "execution_count": 30,
   "metadata": {},
   "outputs": [
    {
     "data": {
      "image/png": "[encoded data removed]",
      "text/plain": [
       "<Figure size 432x288 with 1 Axes>"
      ]
     },
     "metadata": {
      "needs_background": "light"
     },
     "output_type": "display_data"
    },
    {
     "data": {
      "image/png": "[encoded data removed]",
      "text/plain": [
       "<Figure size 432x288 with 1 Axes>"
      ]
     },
     "metadata": {
      "needs_background": "light"
     },
     "output_type": "display_data"
    },
    {
     "data": {
      "image/png": "[encoded data removed]",
      "text/plain": [
       "<Figure size 432x288 with 1 Axes>"
      ]
     },
     "metadata": {
      "needs_background": "light"
     },
     "output_type": "display_data"
    },
    {
     "data": {
      "image/png": "[encoded data removed]",
      "text/plain": [
       "<Figure size 432x288 with 1 Axes>"
      ]
     },
     "metadata": {
      "needs_background": "light"
     },
     "output_type": "display_data"
    },
    {
     "data": {
      "image/png": "[encoded data removed]",
      "text/plain": [
       "<Figure size 432x288 with 1 Axes>"
      ]
     },
     "metadata": {
      "needs_background": "light"
     },
     "output_type": "display_data"
    },
    {
     "data": {
      "image/png": "[encoded data removed]",
      "text/plain": [
       "<Figure size 432x288 with 1 Axes>"
      ]
     },
     "metadata": {
      "needs_background": "light"
     },
     "output_type": "display_data"
    },
    {
     "data": {
      "image/png": "[encoded data removed]",
      "text/plain": [
       "<Figure size 432x288 with 1 Axes>"
      ]
     },
     "metadata": {
      "needs_background": "light"
     },
     "output_type": "display_data"
    }
   ],
   "source": [
    "train_acc = trial['train_acc']\n",
    "valid_acc = trial['valid_acc']\n",
    "epoch = np.arange(params['num_epochs'])\n",
    "\n",
    "mean_train_error = trial['meanTrainError']\n",
    "\n",
    "for j in range(num_params):    \n",
    "    plt.figure()\n",
    "    plt.plot(epoch, train_acc[:, j], 'r', epoch, valid_acc[:, j], 'b')\n",
    "    plt.legend(['Train error','Validation error'])\n",
    "    plt.xlabel('Updates'), plt.ylabel('Error')\n",
    "    plt.show()\n",
    "    \n",
    "meanTrainError = trial['meanTrainError']\n",
    "meanValError = trial['meanValError']\n",
    "\n",
    "# Mean Error\n",
    "plt.figure()\n",
    "plt.plot(epoch, meanTrainError, 'r', epoch, meanValError, 'b')\n",
    "plt.title('Mean Error')\n",
    "plt.grid(b=True, which='major', color='#666666', linestyle='-')\n",
    "plt.minorticks_on()\n",
    "plt.grid(b=True, which='minor', color='#999999', linestyle='-', alpha=0.2)\n",
    "plt.legend(['Mean Train error','Mean Validation error'])\n",
    "plt.xlabel('Updates'), plt.ylabel('Error')\n",
    "plt.show()"
   ]
  },
  {
   "cell_type": "markdown",
   "metadata": {},
   "source": [
    "### Predictions"
   ]
  },
  {
   "cell_type": "code",
   "execution_count": 29,
   "metadata": {},
   "outputs": [
    {
     "name": "stdout",
     "output_type": "stream",
     "text": [
      "----------------------- Prediction --------------------------\n",
      "torch.Size([25000, 782, 2])\n",
      "[6.2625617e-01 3.6848273e-06 6.7424816e-01 6.2511200e-01 3.7108432e-06\n",
      " 6.7375219e-01]\n"
     ]
    },
    {
     "data": {
      "image/png": "[encoded data removed]",
      "text/plain": [
       "<Figure size 432x288 with 1 Axes>"
      ]
     },
     "metadata": {
      "needs_background": "light"
     },
     "output_type": "display_data"
    }
   ],
   "source": [
    "print('----------------------- Prediction --------------------------')\n",
    "\n",
    "net_tot = trial['model']\n",
    "\n",
    "print(x_test.shape)\n",
    "output = net_tot(x_test[:,:,0], x_test[:,:,1])\n",
    "output = output.detach().numpy()\n",
    "\n",
    "output = scaler_valid.inverse_transform(output)\n",
    "target_test = scaler_valid.inverse_transform(target_test)\n",
    "\n",
    "print(target_test[0, :])\n",
    "\n",
    "error = output - target_test\n",
    "\n",
    "abserror = abs(error)\n",
    "\n",
    "plt.figure()\n",
    "plt.hist(abserror[:,0], density=False, bins=30)  # `density=False` would make counts\n",
    "plt.ylabel('Probability')\n",
    "plt.xlabel('Data')\n",
    "plt.show()"
   ]
  },
  {
   "cell_type": "markdown",
   "metadata": {},
   "source": [
    "### Confidence intervals"
   ]
  },
  {
   "cell_type": "code",
   "execution_count": 26,
   "metadata": {},
   "outputs": [
    {
     "name": "stdout",
     "output_type": "stream",
     "text": [
      "(-0.43501631345670777, 0.17580676999013978)\n",
      "(-3.053899190794081e-06, 3.049149757058896e-06)\n",
      "(-0.4114389711320571, 0.10307824549080646)\n",
      "(-0.42532980375371693, 0.18481582336507557)\n",
      "(-2.985355274474779e-06, 3.0474244935725723e-06)\n",
      "(-0.4107070526312922, 0.092682894153509)\n"
     ]
    }
   ],
   "source": [
    "conf_int = np.zeros(num_params)\n",
    "\n",
    "for j in range(num_params):\n",
    "    #plt.plot(error[:,j])\n",
    "    #plt.show()\n",
    "    data = error[:,j]\n",
    "    \n",
    "    mean = np.mean(data)\n",
    "    sigma = np.std(data)\n",
    "    \n",
    "    confint = stats.norm.interval(0.95, loc=mean, \n",
    "        scale=sigma)\n",
    "    \n",
    "    print(confint)"
   ]
  },
  {
   "cell_type": "markdown",
   "metadata": {},
   "source": [
    "### Optimization of parameters\n",
    "\n",
    "For this part the parameter dictionnary needs to be changed and it takes a lot of time to run\n",
    "The analysis was done on\n",
    "- dropout\n",
    "- number of outputs of split layer\n",
    "- learning rate"
   ]
  },
  {
   "cell_type": "code",
   "execution_count": null,
   "metadata": {},
   "outputs": [],
   "source": [
    "trials = Trials()\n",
    "best = fmin(train_network, params, algo=tpe.suggest, max_evals=1, trials=trials)"
   ]
  },
  {
   "cell_type": "code",
   "execution_count": null,
   "metadata": {},
   "outputs": [],
   "source": [
    "n = len(trials.results)\n",
    "tomin = np.zeros(n)\n",
    "to_opti = np.zeros(n)\n",
    "for i in range(n):\n",
    "    tomin[i]= trials.results[i]['loss']\n",
    "    to_opti[i] = trials.results[i]['params']['num_w_out']\n",
    "    \n",
    "print(tomin)\n",
    "print(to_opti)\n",
    "\n",
    "#plt.figure()\n",
    "#plt.plot(dropout, tomin, 'b')\n",
    "#plt.title('Optimisation of dropout (lr=0.001)')\n",
    "#plt.grid(b=True, which='major', color='#666666', linestyle='-')\n",
    "#plt.minorticks_on()\n",
    "#plt.grid(b=True, which='minor', color='#999999', linestyle='-', alpha=0.2)\n",
    "#plt.xlabel('dropout'), plt.ylabel('Sum of errors')\n",
    "#plt.show()\n",
    "\n",
    "plt.figure()\n",
    "plt.scatter(to_opti, tomin)\n",
    "plt.title('Influence of number of output of split network (dropout=0.05, lr=0.001)')\n",
    "plt.grid(b=True, which='major', color='#666666', linestyle='-')\n",
    "plt.minorticks_on()\n",
    "plt.grid(b=True, which='minor', color='#999999', linestyle='-', alpha=0.2)\n",
    "plt.xlabel('nun_w_out'), plt.ylabel('Sum of errors')\n",
    "plt.show()"
   ]
  }
 ],
 "metadata": {
  "kernelspec": {
   "display_name": "Python 3",
   "language": "python",
   "name": "python3"
  },
  "language_info": {
   "codemirror_mode": {
    "name": "ipython",
    "version": 3
   },
   "file_extension": ".py",
   "mimetype": "text/x-python",
   "name": "python",
   "nbconvert_exporter": "python",
   "pygments_lexer": "ipython3",
   "version": "3.8.5"
  }
 },
 "nbformat": 4,
 "nbformat_minor": 4
}
